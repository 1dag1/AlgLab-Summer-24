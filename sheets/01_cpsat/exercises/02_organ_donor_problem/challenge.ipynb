{
 "cells": [
  {
   "cell_type": "code",
   "execution_count": null,
   "metadata": {},
   "outputs": [],
   "source": [
    "from solver_challenge import *\n",
    "from solver import CrossoverTransplantSolver\n",
    "from _db_impl import *"
   ]
  },
  {
   "cell_type": "code",
   "execution_count": null,
   "metadata": {},
   "outputs": [],
   "source": [
    "db = SqliteTransplantDatabase(\"./instances/50.db\")\n",
    "solver = CycleLimitingCrossoverTransplantSolver(db)\n",
    "solver.optimize()"
   ]
  }
 ],
 "metadata": {
  "kernelspec": {
   "display_name": "alglab",
   "language": "python",
   "name": "python3"
  },
  "language_info": {
   "codemirror_mode": {
    "name": "ipython",
    "version": 3
   },
   "file_extension": ".py",
   "mimetype": "text/x-python",
   "name": "python",
   "nbconvert_exporter": "python",
   "pygments_lexer": "ipython3",
   "version": "3.11.4"
  }
 },
 "nbformat": 4,
 "nbformat_minor": 2
}
